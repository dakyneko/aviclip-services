{
 "cells": [
  {
   "cell_type": "code",
   "execution_count": null,
   "id": "1d54deea",
   "metadata": {},
   "outputs": [],
   "source": [
    "%load_ext autoreload\n",
    "%autoreload 2"
   ]
  },
  {
   "cell_type": "code",
   "execution_count": null,
   "id": "9be8e333",
   "metadata": {},
   "outputs": [],
   "source": [
    "from utils import *\n",
    "from db import *\n",
    "from fastapi import FastAPI, File, UploadFile\n",
    "from fastapi.responses import JSONResponse"
   ]
  },
  {
   "cell_type": "code",
   "execution_count": null,
   "id": "0895151d",
   "metadata": {},
   "outputs": [],
   "source": [
    "with open('annotations_avatar_name_info.yaml', 'r') as fd:\n",
    "    avatar_to_anns = { name: Bunch(name=name, **anns) for name,anns in yaml.safe_load(fd).items() }\n",
    "\n",
    "with open('annotations_aid_avatars.yaml', 'r') as fd:\n",
    "    aid_to_anns = { aid: Bunch(avatar_id=aid, **merge_anns(anns, avatar_to_anns.get(anns.get('name', None), {})))\n",
    "                   for aid, anns in yaml.safe_load(fd).items()\n",
    "                   }\n",
    "\n",
    "len(avatar_to_anns), next(iter(avatar_to_anns.items())), len(aid_to_anns), next(iter(aid_to_anns.items()))"
   ]
  },
  {
   "cell_type": "code",
   "execution_count": null,
   "id": "8e1cd531",
   "metadata": {},
   "outputs": [],
   "source": [
    "with gzip.open('py_dataset_ms.json.gz', 'r') as f:\n",
    "    ms = load_ms()\n",
    "\n",
    "msd = defaultdict(list)\n",
    "for m in ms:\n",
    "    if get_in(m, 'targetPlayer') is None or get_in(m, 'extra.targetPlayerId') is None: continue\n",
    "    aid = makeup_avatar_id( m )\n",
    "    msd[ aid ].append( m )\n",
    "\n",
    "len(ms), len(msd)"
   ]
  },
  {
   "cell_type": "code",
   "execution_count": null,
   "id": "3bf9e993",
   "metadata": {},
   "outputs": [],
   "source": [
    "for aid, ms_ in msd.items():\n",
    "    m = ms_to_most_facing( ms_ )\n",
    "    a = m.targetPlayer.avatar\n",
    "    extras = AttrDict(\n",
    "        most_facing = m.f,\n",
    "        upload_name = a.name,\n",
    "        uploader_id = a.authorId\n",
    "    )\n",
    "    anns = AttrDict(aid_to_anns.get(aid) or {})\n",
    "    anns.dataset = 'daky'\n",
    "    anns.extras = extras\n",
    "    aid_to_anns[ aid ] = anns\n"
   ]
  },
  {
   "cell_type": "code",
   "execution_count": null,
   "id": "5f0766cf",
   "metadata": {},
   "outputs": [],
   "source": [
    "next(itertools.islice(iter(aid_to_anns.items()), 500, None))"
   ]
  },
  {
   "cell_type": "code",
   "execution_count": null,
   "id": "9c19bc11",
   "metadata": {},
   "outputs": [],
   "source": [
    "class AviDB(SQLiteDB):\n",
    "\n",
    "  def __init__(self, path='avi.db'):\n",
    "    col_types = [\n",
    "      ('avatar_id', 'text'),\n",
    "      ('name', 'text'),\n",
    "      ('creator', 'text'),\n",
    "      ('url', 'text'),\n",
    "      ('category', 'text'),\n",
    "      ('dataset', 'text'),\n",
    "      ('extras', 'json')\n",
    "    ]\n",
    "    name = 'avi'\n",
    "    super().__init__(path=path, name=name, col_types=col_types)\n",
    "    \n",
    "  def _create_table(self, col_types):\n",
    "    self.execute('CREATE VIRTUAL TABLE IF NOT EXISTS %s USING fts4(%s)' % (self.name, ', '.join(['%s %s %s' % (c, t, 'UNIQUE' if i == 0 else '') for i, (c, t) in enumerate(col_types)])))\n",
    "    \n",
    "  def _create_index(self):\n",
    "    pass"
   ]
  },
  {
   "cell_type": "code",
   "execution_count": null,
   "id": "b0823c5d",
   "metadata": {},
   "outputs": [],
   "source": [
    "avi_db = AviDB()"
   ]
  },
  {
   "cell_type": "code",
   "execution_count": null,
   "id": "5e10f6fb",
   "metadata": {},
   "outputs": [],
   "source": [
    "avi_db.insert(aid_to_anns.values())"
   ]
  },
  {
   "cell_type": "code",
   "execution_count": null,
   "id": "99dc6079",
   "metadata": {},
   "outputs": [],
   "source": [
    "avi_db.size()"
   ]
  },
  {
   "cell_type": "code",
   "execution_count": null,
   "id": "966bccf3",
   "metadata": {},
   "outputs": [],
   "source": [
    "for avi in avi_db.iter_rows():\n",
    "  print(avi)"
   ]
  },
  {
   "cell_type": "code",
   "execution_count": null,
   "id": "4ec9dfbc",
   "metadata": {},
   "outputs": [],
   "source": [
    "avi_db.get(2)"
   ]
  },
  {
   "cell_type": "code",
   "execution_count": null,
   "id": "a88e7e5c",
   "metadata": {},
   "outputs": [],
   "source": [
    "avi_db.get_aid('usr_0044f8fa-3e35-41a6-af75-87dc40a975f3:Corpse Candy')"
   ]
  },
  {
   "cell_type": "code",
   "execution_count": null,
   "id": "4ece7cb4",
   "metadata": {
    "scrolled": true
   },
   "outputs": [],
   "source": [
    "list(avi_db.match(name='Rusk'))"
   ]
  },
  {
   "cell_type": "code",
   "execution_count": null,
   "id": "52f37c52",
   "metadata": {},
   "outputs": [],
   "source": [
    "list(avi_db.search(creator='Kyubihome', category='jp'))"
   ]
  },
  {
   "cell_type": "code",
   "execution_count": null,
   "id": "ee6a9132",
   "metadata": {},
   "outputs": [],
   "source": [
    "list(avi_db.search(name='%hime%', op='LIKE'))"
   ]
  }
 ],
 "metadata": {
  "kernelspec": {
   "display_name": "Python 3 (ipykernel)",
   "language": "python",
   "name": "python3"
  },
  "language_info": {
   "codemirror_mode": {
    "name": "ipython",
    "version": 3
   },
   "file_extension": ".py",
   "mimetype": "text/x-python",
   "name": "python",
   "nbconvert_exporter": "python",
   "pygments_lexer": "ipython3",
   "version": "3.9.12"
  }
 },
 "nbformat": 4,
 "nbformat_minor": 5
}
